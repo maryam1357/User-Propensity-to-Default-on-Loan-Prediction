{
 "cells": [
  {
   "cell_type": "code",
   "execution_count": 1,
   "metadata": {},
   "outputs": [
    {
     "name": "stderr",
     "output_type": "stream",
     "text": [
      "/anaconda/lib/python3.6/site-packages/sklearn/cross_validation.py:41: DeprecationWarning: This module was deprecated in version 0.18 in favor of the model_selection module into which all the refactored classes and functions are moved. Also note that the interface of the new CV iterators are different from that of this module. This module will be removed in 0.20.\n",
      "  \"This module will be removed in 0.20.\", DeprecationWarning)\n"
     ]
    }
   ],
   "source": [
    "import pandas as pd\n",
    "import seaborn as sns\n",
    "import numpy as np\n",
    "import matplotlib.pyplot as plt\n",
    "from sklearn.ensemble import RandomForestClassifier, RandomForestRegressor\n",
    "from sklearn.cross_validation import train_test_split\n",
    "from sklearn.metrics import classification_report\n",
    "from sklearn.metrics import confusion_matrix\n",
    "from sklearn.metrics import roc_auc_score\n",
    "from sklearn.metrics import roc_curve\n",
    "%matplotlib inline\n"
   ]
  },
  {
   "cell_type": "code",
   "execution_count": 2,
   "metadata": {},
   "outputs": [
    {
     "name": "stdout",
     "output_type": "stream",
     "text": [
      "<class 'pandas.core.frame.DataFrame'>\n",
      "RangeIndex: 6604 entries, 0 to 6603\n",
      "Data columns (total 18 columns):\n",
      "client_id                       6604 non-null int64\n",
      "pit                             6604 non-null object\n",
      "period                          6604 non-null object\n",
      "recent_successful_repayments    6562 non-null float64\n",
      "future_bad_probability          6604 non-null float64\n",
      "available_credit                6484 non-null float64\n",
      "balance                         6502 non-null float64\n",
      "sum_failed_repayments           6368 non-null float64\n",
      "max_failed_repayments           6368 non-null float64\n",
      "credit_score                    5809 non-null float64\n",
      "external score                  6604 non-null float64\n",
      "credit_inquiries_count          5782 non-null float64\n",
      "credit_open_balance             5753 non-null float64\n",
      "years_on_file                   5406 non-null object\n",
      "max_successful_repayments       3480 non-null float64\n",
      "missing_report                  6604 non-null int64\n",
      "client_industry_unknown         6604 non-null int64\n",
      "tag_in_six_months               6604 non-null object\n",
      "dtypes: float64(11), int64(3), object(4)\n",
      "memory usage: 928.8+ KB\n"
     ]
    }
   ],
   "source": [
    "df = pd.read_csv(\"bv_ds_case_study_dataset.csv\")\n",
    "df.info()"
   ]
  },
  {
   "cell_type": "code",
   "execution_count": 3,
   "metadata": {},
   "outputs": [
    {
     "data": {
      "text/html": [
       "<div>\n",
       "<style>\n",
       "    .dataframe thead tr:only-child th {\n",
       "        text-align: right;\n",
       "    }\n",
       "\n",
       "    .dataframe thead th {\n",
       "        text-align: left;\n",
       "    }\n",
       "\n",
       "    .dataframe tbody tr th {\n",
       "        vertical-align: top;\n",
       "    }\n",
       "</style>\n",
       "<table border=\"1\" class=\"dataframe\">\n",
       "  <thead>\n",
       "    <tr style=\"text-align: right;\">\n",
       "      <th></th>\n",
       "      <th>client_id</th>\n",
       "      <th>pit</th>\n",
       "      <th>period</th>\n",
       "      <th>recent_successful_repayments</th>\n",
       "      <th>future_bad_probability</th>\n",
       "      <th>available_credit</th>\n",
       "      <th>balance</th>\n",
       "      <th>sum_failed_repayments</th>\n",
       "      <th>max_failed_repayments</th>\n",
       "      <th>credit_score</th>\n",
       "      <th>external score</th>\n",
       "      <th>credit_inquiries_count</th>\n",
       "      <th>credit_open_balance</th>\n",
       "      <th>years_on_file</th>\n",
       "      <th>max_successful_repayments</th>\n",
       "      <th>missing_report</th>\n",
       "      <th>client_industry_unknown</th>\n",
       "      <th>tag_in_six_months</th>\n",
       "    </tr>\n",
       "  </thead>\n",
       "  <tbody>\n",
       "    <tr>\n",
       "      <th>0</th>\n",
       "      <td>14641</td>\n",
       "      <td>6/1/17</td>\n",
       "      <td>first_funded+120</td>\n",
       "      <td>4433.057859</td>\n",
       "      <td>0.964439</td>\n",
       "      <td>3605.636757</td>\n",
       "      <td>16405.9972</td>\n",
       "      <td>887.338879</td>\n",
       "      <td>667.062255</td>\n",
       "      <td>612.0</td>\n",
       "      <td>884.0</td>\n",
       "      <td>13.0</td>\n",
       "      <td>64384.0</td>\n",
       "      <td>between 3 and 5 years</td>\n",
       "      <td>0.0</td>\n",
       "      <td>0</td>\n",
       "      <td>0</td>\n",
       "      <td>bad</td>\n",
       "    </tr>\n",
       "  </tbody>\n",
       "</table>\n",
       "</div>"
      ],
      "text/plain": [
       "   client_id     pit            period  recent_successful_repayments  \\\n",
       "0      14641  6/1/17  first_funded+120                   4433.057859   \n",
       "\n",
       "   future_bad_probability  available_credit     balance  \\\n",
       "0                0.964439       3605.636757  16405.9972   \n",
       "\n",
       "   sum_failed_repayments   max_failed_repayments  credit_score  \\\n",
       "0              887.338879             667.062255         612.0   \n",
       "\n",
       "   external score  credit_inquiries_count  credit_open_balance  \\\n",
       "0           884.0                    13.0              64384.0   \n",
       "\n",
       "           years_on_file  max_successful_repayments  missing_report  \\\n",
       "0  between 3 and 5 years                        0.0               0   \n",
       "\n",
       "   client_industry_unknown tag_in_six_months  \n",
       "0                        0               bad  "
      ]
     },
     "execution_count": 3,
     "metadata": {},
     "output_type": "execute_result"
    }
   ],
   "source": [
    "df.head(1)"
   ]
  },
  {
   "cell_type": "code",
   "execution_count": 4,
   "metadata": {},
   "outputs": [
    {
     "data": {
      "text/plain": [
       "-10003.0"
      ]
     },
     "execution_count": 4,
     "metadata": {},
     "output_type": "execute_result"
    }
   ],
   "source": [
    "df['credit_score'].min()\n"
   ]
  },
  {
   "cell_type": "code",
   "execution_count": 5,
   "metadata": {},
   "outputs": [
    {
     "data": {
      "text/plain": [
       "9002.0"
      ]
     },
     "execution_count": 5,
     "metadata": {},
     "output_type": "execute_result"
    }
   ],
   "source": [
    "df['credit_score'].max()"
   ]
  },
  {
   "cell_type": "code",
   "execution_count": 6,
   "metadata": {},
   "outputs": [
    {
     "data": {
      "text/plain": [
       "-15038.5"
      ]
     },
     "execution_count": 6,
     "metadata": {},
     "output_type": "execute_result"
    }
   ],
   "source": [
    "df['external score'].min()"
   ]
  },
  {
   "cell_type": "code",
   "execution_count": 7,
   "metadata": {},
   "outputs": [
    {
     "data": {
      "text/plain": [
       "13469.0"
      ]
     },
     "execution_count": 7,
     "metadata": {},
     "output_type": "execute_result"
    }
   ],
   "source": [
    "df['external score'].max()"
   ]
  },
  {
   "cell_type": "code",
   "execution_count": 8,
   "metadata": {},
   "outputs": [
    {
     "data": {
      "text/plain": [
       "6541   -15038.5\n",
       "2205   -15037.0\n",
       "3186      -34.0\n",
       "2408      -34.0\n",
       "4119      -34.0\n",
       "1807      -34.0\n",
       "4800      -34.0\n",
       "4121      -34.0\n",
       "575       -34.0\n",
       "2405      -34.0\n",
       "5367      -34.0\n",
       "4123      -34.0\n",
       "4799      -34.0\n",
       "5370      -34.0\n",
       "2399      -34.0\n",
       "4131      -34.0\n",
       "2392      -34.0\n",
       "4796      -34.0\n",
       "4136      -34.0\n",
       "5678      -34.0\n",
       "4143      -34.0\n",
       "4146      -34.0\n",
       "591       -34.0\n",
       "1017      -34.0\n",
       "4114      -34.0\n",
       "2414      -34.0\n",
       "567       -34.0\n",
       "2418      -34.0\n",
       "5246      -34.0\n",
       "4037      -34.0\n",
       "         ...   \n",
       "4480     1175.0\n",
       "578      1175.0\n",
       "4395     1175.0\n",
       "3436     1175.0\n",
       "6022     1175.0\n",
       "3655     1176.5\n",
       "6594     1179.5\n",
       "2470     1179.5\n",
       "603      1179.5\n",
       "6513     1179.5\n",
       "3125     1181.0\n",
       "3483     1182.5\n",
       "3252     1182.5\n",
       "5835     1184.0\n",
       "2376     1184.0\n",
       "3359     1185.5\n",
       "1644     1185.5\n",
       "3032     1190.0\n",
       "2101     1191.5\n",
       "5714     1194.5\n",
       "1395     1196.0\n",
       "5472     1196.0\n",
       "4492     1197.5\n",
       "2423     1199.0\n",
       "4088     1200.5\n",
       "4587     1203.5\n",
       "3914     1211.0\n",
       "3868     1215.5\n",
       "2288     1217.0\n",
       "1613    13469.0\n",
       "Name: external score, Length: 6604, dtype: float64"
      ]
     },
     "execution_count": 8,
     "metadata": {},
     "output_type": "execute_result"
    }
   ],
   "source": [
    "df['external score'].sort_values(ascending=True)"
   ]
  },
  {
   "cell_type": "code",
   "execution_count": 9,
   "metadata": {
    "collapsed": true
   },
   "outputs": [],
   "source": [
    "df.loc[(df['credit_score'] < 0) , 'credit_score'] = np.nan\n"
   ]
  },
  {
   "cell_type": "code",
   "execution_count": 10,
   "metadata": {
    "collapsed": true
   },
   "outputs": [],
   "source": [
    "df.loc[(df['credit_score'] ==9002.0) , 'credit_score'] = 902.0\n",
    "\n",
    "df.loc[(df['external score'] ==13469.0) , 'credit_score'] = 1369.0\n"
   ]
  },
  {
   "cell_type": "code",
   "execution_count": 11,
   "metadata": {},
   "outputs": [
    {
     "data": {
      "text/plain": [
       "6541   -15038.5\n",
       "2205   -15037.0\n",
       "3186      -34.0\n",
       "2408      -34.0\n",
       "4119      -34.0\n",
       "1807      -34.0\n",
       "4800      -34.0\n",
       "4121      -34.0\n",
       "575       -34.0\n",
       "2405      -34.0\n",
       "5367      -34.0\n",
       "4123      -34.0\n",
       "4799      -34.0\n",
       "5370      -34.0\n",
       "2399      -34.0\n",
       "4131      -34.0\n",
       "2392      -34.0\n",
       "4796      -34.0\n",
       "4136      -34.0\n",
       "5678      -34.0\n",
       "4143      -34.0\n",
       "4146      -34.0\n",
       "591       -34.0\n",
       "1017      -34.0\n",
       "4114      -34.0\n",
       "2414      -34.0\n",
       "567       -34.0\n",
       "2418      -34.0\n",
       "5246      -34.0\n",
       "4037      -34.0\n",
       "         ...   \n",
       "5005      -34.0\n",
       "3657      -34.0\n",
       "6437      -34.0\n",
       "2793      -34.0\n",
       "6435      -34.0\n",
       "4962      -34.0\n",
       "1328      -34.0\n",
       "5581      -34.0\n",
       "2875      -34.0\n",
       "5577      -34.0\n",
       "5009      -34.0\n",
       "2807      -34.0\n",
       "5345      -34.0\n",
       "6434      -34.0\n",
       "1637      -34.0\n",
       "2843      -34.0\n",
       "2802      -34.0\n",
       "3644      -34.0\n",
       "6431      -34.0\n",
       "6411      -34.0\n",
       "2872      -34.0\n",
       "2803      -34.0\n",
       "6406      -34.0\n",
       "6407      -34.0\n",
       "6430      -34.0\n",
       "4964      -34.0\n",
       "1111      -34.0\n",
       "341       666.5\n",
       "471       669.5\n",
       "1604      677.0\n",
       "Name: external score, Length: 800, dtype: float64"
      ]
     },
     "execution_count": 11,
     "metadata": {},
     "output_type": "execute_result"
    }
   ],
   "source": [
    "df['external score'].sort_values(ascending=True).head(800)"
   ]
  },
  {
   "cell_type": "code",
   "execution_count": 12,
   "metadata": {},
   "outputs": [
    {
     "data": {
      "text/plain": [
       "Index(['client_id', 'pit', 'period', 'recent_successful_repayments',\n",
       "       'future_bad_probability', 'available_credit', 'balance',\n",
       "       'sum_failed_repayments ', 'max_failed_repayments', 'credit_score',\n",
       "       'external score', 'credit_inquiries_count', 'credit_open_balance',\n",
       "       'years_on_file', 'max_successful_repayments', 'missing_report',\n",
       "       'client_industry_unknown', 'tag_in_six_months'],\n",
       "      dtype='object')"
      ]
     },
     "execution_count": 12,
     "metadata": {},
     "output_type": "execute_result"
    }
   ],
   "source": [
    "df.columns"
   ]
  },
  {
   "cell_type": "code",
   "execution_count": 13,
   "metadata": {
    "scrolled": false
   },
   "outputs": [
    {
     "data": {
      "text/plain": [
       "client_id                          0\n",
       "pit                                0\n",
       "period                             0\n",
       "recent_successful_repayments      42\n",
       "future_bad_probability             0\n",
       "available_credit                 120\n",
       "balance                          102\n",
       "sum_failed_repayments            236\n",
       "max_failed_repayments            236\n",
       "credit_score                     797\n",
       "external score                     0\n",
       "credit_inquiries_count           822\n",
       "credit_open_balance              851\n",
       "years_on_file                   1198\n",
       "max_successful_repayments       3124\n",
       "missing_report                     0\n",
       "client_industry_unknown            0\n",
       "tag_in_six_months                  0\n",
       "dtype: int64"
      ]
     },
     "execution_count": 13,
     "metadata": {},
     "output_type": "execute_result"
    }
   ],
   "source": [
    "df.isnull().sum()"
   ]
  },
  {
   "cell_type": "code",
   "execution_count": 15,
   "metadata": {
    "collapsed": true
   },
   "outputs": [],
   "source": [
    "df.drop(['external score'], axis=1, inplace=True)\n",
    "df.drop(['missing_report','client_industry_unknown'], axis=1, inplace=True)"
   ]
  },
  {
   "cell_type": "code",
   "execution_count": 16,
   "metadata": {
    "collapsed": true
   },
   "outputs": [],
   "source": [
    "df.drop(['max_successful_repayments','available_credit'], axis=1, inplace=True)\n"
   ]
  },
  {
   "cell_type": "code",
   "execution_count": 17,
   "metadata": {
    "scrolled": true
   },
   "outputs": [
    {
     "name": "stdout",
     "output_type": "stream",
     "text": [
      "<class 'pandas.core.frame.DataFrame'>\n",
      "RangeIndex: 6604 entries, 0 to 6603\n",
      "Data columns (total 13 columns):\n",
      "client_id                       6604 non-null int64\n",
      "pit                             6604 non-null object\n",
      "period                          6604 non-null object\n",
      "recent_successful_repayments    6562 non-null float64\n",
      "future_bad_probability          6604 non-null float64\n",
      "balance                         6502 non-null float64\n",
      "sum_failed_repayments           6368 non-null float64\n",
      "max_failed_repayments           6368 non-null float64\n",
      "credit_score                    5807 non-null float64\n",
      "credit_inquiries_count          5782 non-null float64\n",
      "credit_open_balance             5753 non-null float64\n",
      "years_on_file                   5406 non-null object\n",
      "tag_in_six_months               6604 non-null object\n",
      "dtypes: float64(8), int64(1), object(4)\n",
      "memory usage: 670.8+ KB\n"
     ]
    }
   ],
   "source": [
    "df.info()"
   ]
  },
  {
   "cell_type": "code",
   "execution_count": 18,
   "metadata": {},
   "outputs": [
    {
     "name": "stderr",
     "output_type": "stream",
     "text": [
      "/anaconda/lib/python3.6/site-packages/ipykernel_launcher.py:9: FutureWarning: convert_objects is deprecated.  Use the data-type specific converters pd.to_datetime, pd.to_timedelta and pd.to_numeric.\n",
      "  if __name__ == '__main__':\n"
     ]
    }
   ],
   "source": [
    "df.replace('n/a', np.nan, inplace=True)\n",
    "years_on_file = {\"0\":0 ,\"less than 0.5 year\" :0.5,\"between 0.5 and 1 years\":1,\"between 1 and 1.5 years\":1.5,\"between 1.5 and 2 years\":2,\"between 2 and 2.5 years\":2.5\n",
    "                ,\"between 2.5 and 3 years\":3,\"between 3 and 5 years\":5,\"between 5 and 6 years\":6,\"between 6 and 8 years\":8,\"between 8 and 10 years\":10\n",
    "                 ,\"between 10 and 12 years\":12,\"between 12 and 14 years\":14,\"between 14 and 17 years\":17,\"between 17 and 20 years\":20\n",
    "                 ,\"between 20 and 25 years\":25,\"between 25 and 30 years\":30,\"between 30 and 35 years\":35,\"more than 35 years\":40}\n",
    "\n",
    "df['years_on_file'] = df['years_on_file'].replace(years_on_file)\n",
    "# now convert the types\n",
    "df['years_on_file'] = df['years_on_file'].convert_objects(convert_numeric=True)"
   ]
  },
  {
   "cell_type": "code",
   "execution_count": 19,
   "metadata": {},
   "outputs": [
    {
     "data": {
      "text/html": [
       "<div>\n",
       "<style>\n",
       "    .dataframe thead tr:only-child th {\n",
       "        text-align: right;\n",
       "    }\n",
       "\n",
       "    .dataframe thead th {\n",
       "        text-align: left;\n",
       "    }\n",
       "\n",
       "    .dataframe tbody tr th {\n",
       "        vertical-align: top;\n",
       "    }\n",
       "</style>\n",
       "<table border=\"1\" class=\"dataframe\">\n",
       "  <thead>\n",
       "    <tr style=\"text-align: right;\">\n",
       "      <th></th>\n",
       "      <th>client_id</th>\n",
       "      <th>recent_successful_repayments</th>\n",
       "      <th>future_bad_probability</th>\n",
       "      <th>balance</th>\n",
       "      <th>sum_failed_repayments</th>\n",
       "      <th>max_failed_repayments</th>\n",
       "      <th>credit_score</th>\n",
       "      <th>credit_inquiries_count</th>\n",
       "      <th>credit_open_balance</th>\n",
       "      <th>years_on_file</th>\n",
       "    </tr>\n",
       "  </thead>\n",
       "  <tbody>\n",
       "    <tr>\n",
       "      <th>client_id</th>\n",
       "      <td>1.000000</td>\n",
       "      <td>0.080560</td>\n",
       "      <td>-0.027130</td>\n",
       "      <td>0.048755</td>\n",
       "      <td>0.022368</td>\n",
       "      <td>0.027949</td>\n",
       "      <td>-0.042440</td>\n",
       "      <td>-0.041326</td>\n",
       "      <td>0.020192</td>\n",
       "      <td>0.035404</td>\n",
       "    </tr>\n",
       "    <tr>\n",
       "      <th>recent_successful_repayments</th>\n",
       "      <td>0.080560</td>\n",
       "      <td>1.000000</td>\n",
       "      <td>-0.081206</td>\n",
       "      <td>0.480812</td>\n",
       "      <td>-0.035522</td>\n",
       "      <td>-0.001109</td>\n",
       "      <td>0.055112</td>\n",
       "      <td>-0.000109</td>\n",
       "      <td>0.062674</td>\n",
       "      <td>0.046441</td>\n",
       "    </tr>\n",
       "    <tr>\n",
       "      <th>future_bad_probability</th>\n",
       "      <td>-0.027130</td>\n",
       "      <td>-0.081206</td>\n",
       "      <td>1.000000</td>\n",
       "      <td>0.094490</td>\n",
       "      <td>0.225285</td>\n",
       "      <td>0.144029</td>\n",
       "      <td>-0.128621</td>\n",
       "      <td>0.189617</td>\n",
       "      <td>-0.047602</td>\n",
       "      <td>-0.019739</td>\n",
       "    </tr>\n",
       "    <tr>\n",
       "      <th>balance</th>\n",
       "      <td>0.048755</td>\n",
       "      <td>0.480812</td>\n",
       "      <td>0.094490</td>\n",
       "      <td>1.000000</td>\n",
       "      <td>0.110058</td>\n",
       "      <td>0.074210</td>\n",
       "      <td>-0.019322</td>\n",
       "      <td>0.090847</td>\n",
       "      <td>0.050942</td>\n",
       "      <td>0.020770</td>\n",
       "    </tr>\n",
       "    <tr>\n",
       "      <th>sum_failed_repayments</th>\n",
       "      <td>0.022368</td>\n",
       "      <td>-0.035522</td>\n",
       "      <td>0.225285</td>\n",
       "      <td>0.110058</td>\n",
       "      <td>1.000000</td>\n",
       "      <td>0.781213</td>\n",
       "      <td>-0.040646</td>\n",
       "      <td>0.109457</td>\n",
       "      <td>-0.006038</td>\n",
       "      <td>-0.012123</td>\n",
       "    </tr>\n",
       "    <tr>\n",
       "      <th>max_failed_repayments</th>\n",
       "      <td>0.027949</td>\n",
       "      <td>-0.001109</td>\n",
       "      <td>0.144029</td>\n",
       "      <td>0.074210</td>\n",
       "      <td>0.781213</td>\n",
       "      <td>1.000000</td>\n",
       "      <td>0.011651</td>\n",
       "      <td>0.067178</td>\n",
       "      <td>-0.001785</td>\n",
       "      <td>-0.000262</td>\n",
       "    </tr>\n",
       "    <tr>\n",
       "      <th>credit_score</th>\n",
       "      <td>-0.042440</td>\n",
       "      <td>0.055112</td>\n",
       "      <td>-0.128621</td>\n",
       "      <td>-0.019322</td>\n",
       "      <td>-0.040646</td>\n",
       "      <td>0.011651</td>\n",
       "      <td>1.000000</td>\n",
       "      <td>-0.239375</td>\n",
       "      <td>0.056268</td>\n",
       "      <td>0.068956</td>\n",
       "    </tr>\n",
       "    <tr>\n",
       "      <th>credit_inquiries_count</th>\n",
       "      <td>-0.041326</td>\n",
       "      <td>-0.000109</td>\n",
       "      <td>0.189617</td>\n",
       "      <td>0.090847</td>\n",
       "      <td>0.109457</td>\n",
       "      <td>0.067178</td>\n",
       "      <td>-0.239375</td>\n",
       "      <td>1.000000</td>\n",
       "      <td>0.012226</td>\n",
       "      <td>-0.032147</td>\n",
       "    </tr>\n",
       "    <tr>\n",
       "      <th>credit_open_balance</th>\n",
       "      <td>0.020192</td>\n",
       "      <td>0.062674</td>\n",
       "      <td>-0.047602</td>\n",
       "      <td>0.050942</td>\n",
       "      <td>-0.006038</td>\n",
       "      <td>-0.001785</td>\n",
       "      <td>0.056268</td>\n",
       "      <td>0.012226</td>\n",
       "      <td>1.000000</td>\n",
       "      <td>0.127362</td>\n",
       "    </tr>\n",
       "    <tr>\n",
       "      <th>years_on_file</th>\n",
       "      <td>0.035404</td>\n",
       "      <td>0.046441</td>\n",
       "      <td>-0.019739</td>\n",
       "      <td>0.020770</td>\n",
       "      <td>-0.012123</td>\n",
       "      <td>-0.000262</td>\n",
       "      <td>0.068956</td>\n",
       "      <td>-0.032147</td>\n",
       "      <td>0.127362</td>\n",
       "      <td>1.000000</td>\n",
       "    </tr>\n",
       "  </tbody>\n",
       "</table>\n",
       "</div>"
      ],
      "text/plain": [
       "                              client_id  recent_successful_repayments  \\\n",
       "client_id                      1.000000                      0.080560   \n",
       "recent_successful_repayments   0.080560                      1.000000   \n",
       "future_bad_probability        -0.027130                     -0.081206   \n",
       "balance                        0.048755                      0.480812   \n",
       "sum_failed_repayments          0.022368                     -0.035522   \n",
       "max_failed_repayments          0.027949                     -0.001109   \n",
       "credit_score                  -0.042440                      0.055112   \n",
       "credit_inquiries_count        -0.041326                     -0.000109   \n",
       "credit_open_balance            0.020192                      0.062674   \n",
       "years_on_file                  0.035404                      0.046441   \n",
       "\n",
       "                              future_bad_probability   balance  \\\n",
       "client_id                                  -0.027130  0.048755   \n",
       "recent_successful_repayments               -0.081206  0.480812   \n",
       "future_bad_probability                      1.000000  0.094490   \n",
       "balance                                     0.094490  1.000000   \n",
       "sum_failed_repayments                       0.225285  0.110058   \n",
       "max_failed_repayments                       0.144029  0.074210   \n",
       "credit_score                               -0.128621 -0.019322   \n",
       "credit_inquiries_count                      0.189617  0.090847   \n",
       "credit_open_balance                        -0.047602  0.050942   \n",
       "years_on_file                              -0.019739  0.020770   \n",
       "\n",
       "                              sum_failed_repayments   max_failed_repayments  \\\n",
       "client_id                                   0.022368               0.027949   \n",
       "recent_successful_repayments               -0.035522              -0.001109   \n",
       "future_bad_probability                      0.225285               0.144029   \n",
       "balance                                     0.110058               0.074210   \n",
       "sum_failed_repayments                       1.000000               0.781213   \n",
       "max_failed_repayments                       0.781213               1.000000   \n",
       "credit_score                               -0.040646               0.011651   \n",
       "credit_inquiries_count                      0.109457               0.067178   \n",
       "credit_open_balance                        -0.006038              -0.001785   \n",
       "years_on_file                              -0.012123              -0.000262   \n",
       "\n",
       "                              credit_score  credit_inquiries_count  \\\n",
       "client_id                        -0.042440               -0.041326   \n",
       "recent_successful_repayments      0.055112               -0.000109   \n",
       "future_bad_probability           -0.128621                0.189617   \n",
       "balance                          -0.019322                0.090847   \n",
       "sum_failed_repayments            -0.040646                0.109457   \n",
       "max_failed_repayments             0.011651                0.067178   \n",
       "credit_score                      1.000000               -0.239375   \n",
       "credit_inquiries_count           -0.239375                1.000000   \n",
       "credit_open_balance               0.056268                0.012226   \n",
       "years_on_file                     0.068956               -0.032147   \n",
       "\n",
       "                              credit_open_balance  years_on_file  \n",
       "client_id                                0.020192       0.035404  \n",
       "recent_successful_repayments             0.062674       0.046441  \n",
       "future_bad_probability                  -0.047602      -0.019739  \n",
       "balance                                  0.050942       0.020770  \n",
       "sum_failed_repayments                   -0.006038      -0.012123  \n",
       "max_failed_repayments                   -0.001785      -0.000262  \n",
       "credit_score                             0.056268       0.068956  \n",
       "credit_inquiries_count                   0.012226      -0.032147  \n",
       "credit_open_balance                      1.000000       0.127362  \n",
       "years_on_file                            0.127362       1.000000  "
      ]
     },
     "execution_count": 19,
     "metadata": {},
     "output_type": "execute_result"
    }
   ],
   "source": [
    "cor = df.corr()\n",
    "cor"
   ]
  },
  {
   "cell_type": "code",
   "execution_count": 20,
   "metadata": {},
   "outputs": [
    {
     "data": {
      "text/plain": [
       "array([[  0.00000000e+00,   0.00000000e+00,   0.00000000e+00,\n",
       "          0.00000000e+00,   0.00000000e+00,   0.00000000e+00,\n",
       "          0.00000000e+00,   0.00000000e+00,   0.00000000e+00,\n",
       "          0.00000000e+00],\n",
       "       [  8.05604673e-02,   0.00000000e+00,   0.00000000e+00,\n",
       "          0.00000000e+00,   0.00000000e+00,   0.00000000e+00,\n",
       "          0.00000000e+00,   0.00000000e+00,   0.00000000e+00,\n",
       "          0.00000000e+00],\n",
       "       [ -2.71299350e-02,  -8.12059092e-02,   0.00000000e+00,\n",
       "          0.00000000e+00,   0.00000000e+00,   0.00000000e+00,\n",
       "          0.00000000e+00,   0.00000000e+00,   0.00000000e+00,\n",
       "          0.00000000e+00],\n",
       "       [  4.87553959e-02,   4.80811510e-01,   9.44896156e-02,\n",
       "          0.00000000e+00,   0.00000000e+00,   0.00000000e+00,\n",
       "          0.00000000e+00,   0.00000000e+00,   0.00000000e+00,\n",
       "          0.00000000e+00],\n",
       "       [  2.23679358e-02,  -3.55220966e-02,   2.25284801e-01,\n",
       "          1.10058441e-01,   0.00000000e+00,   0.00000000e+00,\n",
       "          0.00000000e+00,   0.00000000e+00,   0.00000000e+00,\n",
       "          0.00000000e+00],\n",
       "       [  2.79492564e-02,  -1.10910261e-03,   1.44028528e-01,\n",
       "          7.42098576e-02,   7.81213006e-01,   0.00000000e+00,\n",
       "          0.00000000e+00,   0.00000000e+00,   0.00000000e+00,\n",
       "          0.00000000e+00],\n",
       "       [ -4.24400716e-02,   5.51122754e-02,  -1.28620715e-01,\n",
       "         -1.93220737e-02,  -4.06459254e-02,   1.16507813e-02,\n",
       "          0.00000000e+00,   0.00000000e+00,   0.00000000e+00,\n",
       "          0.00000000e+00],\n",
       "       [ -4.13256157e-02,  -1.09308756e-04,   1.89617062e-01,\n",
       "          9.08465245e-02,   1.09456676e-01,   6.71776463e-02,\n",
       "         -2.39375362e-01,   0.00000000e+00,   0.00000000e+00,\n",
       "          0.00000000e+00],\n",
       "       [  2.01921798e-02,   6.26739428e-02,  -4.76017940e-02,\n",
       "          5.09423909e-02,  -6.03776258e-03,  -1.78491700e-03,\n",
       "          5.62677634e-02,   1.22262915e-02,   0.00000000e+00,\n",
       "          0.00000000e+00],\n",
       "       [  3.54038272e-02,   4.64414719e-02,  -1.97393956e-02,\n",
       "          2.07700089e-02,  -1.21231933e-02,  -2.61602249e-04,\n",
       "          6.89563696e-02,  -3.21467595e-02,   1.27362307e-01,\n",
       "          0.00000000e+00]])"
      ]
     },
     "execution_count": 20,
     "metadata": {},
     "output_type": "execute_result"
    }
   ],
   "source": [
    "np.tril(cor, k=-1)"
   ]
  },
  {
   "cell_type": "code",
   "execution_count": 21,
   "metadata": {
    "collapsed": true
   },
   "outputs": [],
   "source": [
    "cor.loc[:,:] = np.tril(cor, k=-1) # below main lower triangle of an array\n",
    "\n"
   ]
  },
  {
   "cell_type": "code",
   "execution_count": 22,
   "metadata": {},
   "outputs": [
    {
     "data": {
      "text/plain": [
       "client_id                     client_id                       0.000000\n",
       "                              recent_successful_repayments    0.000000\n",
       "                              future_bad_probability          0.000000\n",
       "                              balance                         0.000000\n",
       "                              sum_failed_repayments           0.000000\n",
       "                              max_failed_repayments           0.000000\n",
       "                              credit_score                    0.000000\n",
       "                              credit_inquiries_count          0.000000\n",
       "                              credit_open_balance             0.000000\n",
       "                              years_on_file                   0.000000\n",
       "recent_successful_repayments  client_id                       0.080560\n",
       "                              recent_successful_repayments    0.000000\n",
       "                              future_bad_probability          0.000000\n",
       "                              balance                         0.000000\n",
       "                              sum_failed_repayments           0.000000\n",
       "                              max_failed_repayments           0.000000\n",
       "                              credit_score                    0.000000\n",
       "                              credit_inquiries_count          0.000000\n",
       "                              credit_open_balance             0.000000\n",
       "                              years_on_file                   0.000000\n",
       "future_bad_probability        client_id                      -0.027130\n",
       "                              recent_successful_repayments   -0.081206\n",
       "                              future_bad_probability          0.000000\n",
       "                              balance                         0.000000\n",
       "                              sum_failed_repayments           0.000000\n",
       "                              max_failed_repayments           0.000000\n",
       "                              credit_score                    0.000000\n",
       "                              credit_inquiries_count          0.000000\n",
       "                              credit_open_balance             0.000000\n",
       "                              years_on_file                   0.000000\n",
       "                                                                ...   \n",
       "credit_inquiries_count        client_id                      -0.041326\n",
       "                              recent_successful_repayments   -0.000109\n",
       "                              future_bad_probability          0.189617\n",
       "                              balance                         0.090847\n",
       "                              sum_failed_repayments           0.109457\n",
       "                              max_failed_repayments           0.067178\n",
       "                              credit_score                   -0.239375\n",
       "                              credit_inquiries_count          0.000000\n",
       "                              credit_open_balance             0.000000\n",
       "                              years_on_file                   0.000000\n",
       "credit_open_balance           client_id                       0.020192\n",
       "                              recent_successful_repayments    0.062674\n",
       "                              future_bad_probability         -0.047602\n",
       "                              balance                         0.050942\n",
       "                              sum_failed_repayments          -0.006038\n",
       "                              max_failed_repayments          -0.001785\n",
       "                              credit_score                    0.056268\n",
       "                              credit_inquiries_count          0.012226\n",
       "                              credit_open_balance             0.000000\n",
       "                              years_on_file                   0.000000\n",
       "years_on_file                 client_id                       0.035404\n",
       "                              recent_successful_repayments    0.046441\n",
       "                              future_bad_probability         -0.019739\n",
       "                              balance                         0.020770\n",
       "                              sum_failed_repayments          -0.012123\n",
       "                              max_failed_repayments          -0.000262\n",
       "                              credit_score                    0.068956\n",
       "                              credit_inquiries_count         -0.032147\n",
       "                              credit_open_balance             0.127362\n",
       "                              years_on_file                   0.000000\n",
       "Length: 100, dtype: float64"
      ]
     },
     "execution_count": 22,
     "metadata": {},
     "output_type": "execute_result"
    }
   ],
   "source": [
    "cor = cor.stack()\n",
    "cor"
   ]
  },
  {
   "cell_type": "code",
   "execution_count": 23,
   "metadata": {},
   "outputs": [
    {
     "data": {
      "text/plain": [
       "max_failed_repayments  sum_failed_repayments     0.781213\n",
       "dtype: float64"
      ]
     },
     "execution_count": 23,
     "metadata": {},
     "output_type": "execute_result"
    }
   ],
   "source": [
    "cor[(cor > 0.55) | (cor < -0.55)]"
   ]
  },
  {
   "cell_type": "code",
   "execution_count": 24,
   "metadata": {
    "collapsed": true
   },
   "outputs": [],
   "source": [
    "df.drop(['max_failed_repayments'], axis=1, inplace=True) "
   ]
  },
  {
   "cell_type": "code",
   "execution_count": 25,
   "metadata": {
    "collapsed": true
   },
   "outputs": [],
   "source": [
    "mapping = {'good': 1, 'bad': 0}\n",
    "df = df.replace({'tag_in_six_months': mapping})"
   ]
  },
  {
   "cell_type": "code",
   "execution_count": 26,
   "metadata": {
    "collapsed": true
   },
   "outputs": [],
   "source": [
    "df_120 = df[df['period']=='first_funded+120']\n",
    "df_120 = df_120.drop(['period','pit'], axis=1)\n"
   ]
  },
  {
   "cell_type": "code",
   "execution_count": 27,
   "metadata": {
    "collapsed": true
   },
   "outputs": [],
   "source": [
    "df_180 = df[df['period']=='first_funded+180']\n",
    "df_180 = df_180.drop(['period','pit'], axis=1)"
   ]
  },
  {
   "cell_type": "code",
   "execution_count": 28,
   "metadata": {},
   "outputs": [
    {
     "data": {
      "text/plain": [
       "Index(['recent_successful_repayments', 'balance', 'sum_failed_repayments ',\n",
       "       'credit_score', 'credit_inquiries_count', 'credit_open_balance',\n",
       "       'years_on_file'],\n",
       "      dtype='object')"
      ]
     },
     "execution_count": 28,
     "metadata": {},
     "output_type": "execute_result"
    }
   ],
   "source": [
    "columns = df_120.columns[df_120.isnull().any()]\n",
    "columns "
   ]
  },
  {
   "cell_type": "code",
   "execution_count": 44,
   "metadata": {
    "collapsed": true
   },
   "outputs": [],
   "source": [
    "def fillnan(df):\n",
    "    columns = df.columns[df.isnull().any()]\n",
    "    for name in columns:\n",
    "        y = df.loc[df[name].notnull(), name].values\n",
    "        X = df.loc[df[name].notnull()].drop(columns, axis=1).values\n",
    "        X_test = df.loc[df[name].isnull()].drop(columns, axis=1).values\n",
    "        if df[name].dtypes == 'object':\n",
    "            model = RandomForestClassifier(n_estimators=400, max_depth=3)\n",
    "            model.fit(X, y)\n",
    "            df.loc[df[name].isnull(), name] = model.predict(X_test)\n",
    "        else:\n",
    "            model = RandomForestRegressor(n_estimators=400, max_depth=3)\n",
    "            model.fit(X, y)\n",
    "            df.loc[df[name].isnull(), name] = model.predict(X_test)\n",
    "    return df"
   ]
  },
  {
   "cell_type": "code",
   "execution_count": null,
   "metadata": {
    "collapsed": true
   },
   "outputs": [],
   "source": [
    "fillnan(df_120)\n",
    "fillnan(df_180)"
   ]
  },
  {
   "cell_type": "code",
   "execution_count": 46,
   "metadata": {},
   "outputs": [
    {
     "data": {
      "text/plain": [
       "<matplotlib.axes._subplots.AxesSubplot at 0x1a213a2e48>"
      ]
     },
     "execution_count": 46,
     "metadata": {},
     "output_type": "execute_result"
    },
    {
     "data": {
      "image/png": "[encoded data removed]",
      "text/plain": [
       "<matplotlib.figure.Figure at 0x1a212c1710>"
      ]
     },
     "metadata": {},
     "output_type": "display_data"
    }
   ],
   "source": [
    "sns.countplot(df_120['tag_in_six_months'])"
   ]
  },
  {
   "cell_type": "code",
   "execution_count": 47,
   "metadata": {},
   "outputs": [
    {
     "data": {
      "image/png": "[encoded data removed]",
      "text/plain": [
       "<matplotlib.figure.Figure at 0x1a2136fb00>"
      ]
     },
     "metadata": {},
     "output_type": "display_data"
    }
   ],
   "source": [
    "columns = ['years_on_file','credit_inquiries_count','balance','credit_open_balance']\n",
    "fig, axes = plt.subplots(nrows=2, ncols=2, figsize=(6,7))\n",
    "plt.tight_layout(w_pad=2.0, h_pad=3.0)\n",
    "\n",
    "for i, column in zip(range(1,5), columns):\n",
    "    plt.subplot(2,2,i)\n",
    "    sns.boxplot(x=\"tag_in_six_months\", y=column, data=df_120, linewidth=0.5)\n",
    "    plt.xlabel('tag_in_six_months')"
   ]
  },
  {
   "cell_type": "code",
   "execution_count": 48,
   "metadata": {},
   "outputs": [
    {
     "data": {
      "text/plain": [
       "<matplotlib.axes._subplots.AxesSubplot at 0x1a2136fcc0>"
      ]
     },
     "execution_count": 48,
     "metadata": {},
     "output_type": "execute_result"
    },
    {
     "data": {
      "image/png": "[encoded data removed]",
      "text/plain": [
       "<matplotlib.figure.Figure at 0x1a21080a20>"
      ]
     },
     "metadata": {},
     "output_type": "display_data"
    }
   ],
   "source": [
    "sns.countplot(df_180['tag_in_six_months'])"
   ]
  },
  {
   "cell_type": "code",
   "execution_count": 49,
   "metadata": {},
   "outputs": [
    {
     "data": {
      "image/png": "[encoded data removed]",
      "text/plain": [
       "<matplotlib.figure.Figure at 0x1a20b18780>"
      ]
     },
     "metadata": {},
     "output_type": "display_data"
    }
   ],
   "source": [
    "columns = ['years_on_file','credit_inquiries_count','balance','credit_open_balance']\n",
    "fig, axes = plt.subplots(nrows=2, ncols=2, figsize=(6,7))\n",
    "plt.tight_layout(w_pad=2.0, h_pad=3.0)\n",
    "\n",
    "for i, column in zip(range(1,5), columns):\n",
    "    plt.subplot(2,2,i)\n",
    "    sns.boxplot(x=\"tag_in_six_months\", y=column, data=df_180, linewidth=0.5)\n",
    "    plt.xlabel('tag_in_six_months')"
   ]
  },
  {
   "cell_type": "code",
   "execution_count": 50,
   "metadata": {
    "collapsed": true
   },
   "outputs": [],
   "source": [
    "# X_train_120_imbalance, X_test_120_imbalance, y_train_120_imbalance, y_test_120_imbalance = train_test_split(X_resampled_120, y_resampled_120, test_size = 0.25, random_state=0)\n",
    "\n",
    "# model_imbalance = RandomForestClassifier(n_estimators=200)\n",
    "# model_120_imbalance = model_imbalance.fit(X_train_120_imbalance, y_train_120_imbalance)\n",
    "# predict_120_imbalance = model_imbalance.predict(X_test_120_imbalance)\n",
    "# print(classification_report(y_test_120_imbalance, predict_120_imbalance))"
   ]
  },
  {
   "cell_type": "code",
   "execution_count": 51,
   "metadata": {
    "collapsed": true
   },
   "outputs": [],
   "source": [
    "y_120 = df_120['tag_in_six_months'].values\n",
    "X_120 = df_120.drop(['tag_in_six_months'], axis=1).values\n",
    "X_train_120, X_test_120, y_train_120, y_test_120 = train_test_split(X_120, y_120, test_size = 0.25, random_state=0)"
   ]
  },
  {
   "cell_type": "code",
   "execution_count": 52,
   "metadata": {
    "collapsed": true
   },
   "outputs": [],
   "source": [
    "from imblearn.over_sampling import SMOTE \n",
    "sm = SMOTE(ratio = 1.0)"
   ]
  },
  {
   "cell_type": "code",
   "execution_count": 53,
   "metadata": {},
   "outputs": [
    {
     "name": "stderr",
     "output_type": "stream",
     "text": [
      "/anaconda/lib/python3.6/site-packages/sklearn/utils/deprecation.py:77: DeprecationWarning: Function _ratio_float is deprecated; Use a float for 'ratio' is deprecated from version 0.2. The support will be removed in 0.4. Use a dict, str, or a callable instead.\n",
      "  warnings.warn(msg, category=DeprecationWarning)\n"
     ]
    }
   ],
   "source": [
    "X_resampled_120, y_resampled_120 = sm.fit_sample(X_train_120, y_train_120)\n"
   ]
  },
  {
   "cell_type": "code",
   "execution_count": 54,
   "metadata": {},
   "outputs": [
    {
     "data": {
      "text/plain": [
       "<matplotlib.axes._subplots.AxesSubplot at 0x1a21241908>"
      ]
     },
     "execution_count": 54,
     "metadata": {},
     "output_type": "execute_result"
    },
    {
     "data": {
      "image/png": "[encoded data removed]",
      "text/plain": [
       "<matplotlib.figure.Figure at 0x10ea8ea20>"
      ]
     },
     "metadata": {},
     "output_type": "display_data"
    }
   ],
   "source": [
    "sns.countplot(y_resampled_120)"
   ]
  },
  {
   "cell_type": "code",
   "execution_count": 55,
   "metadata": {},
   "outputs": [
    {
     "name": "stdout",
     "output_type": "stream",
     "text": [
      "             precision    recall  f1-score   support\n",
      "\n",
      "          0       0.83      0.90      0.86       135\n",
      "          1       0.98      0.96      0.97       681\n",
      "\n",
      "avg / total       0.95      0.95      0.95       816\n",
      "\n"
     ]
    }
   ],
   "source": [
    "\n",
    "model = RandomForestClassifier(n_estimators=200)\n",
    "model_120 = model.fit(X_resampled_120, y_resampled_120)\n",
    "predict_120 = model.predict(X_test_120)\n",
    "print(classification_report(y_test_120, predict_120))"
   ]
  },
  {
   "cell_type": "code",
   "execution_count": 56,
   "metadata": {},
   "outputs": [
    {
     "data": {
      "image/png": "[encoded data removed]",
      "text/plain": [
       "<matplotlib.figure.Figure at 0x1a21688710>"
      ]
     },
     "metadata": {},
     "output_type": "display_data"
    }
   ],
   "source": [
    "cm_120 = confusion_matrix(y_test_120, predict_120).T\n",
    "cm_120 = cm_120.astype('float')/cm_120.sum(axis=0)\n",
    "\n",
    "fig, ax = plt.subplots()\n",
    "sns.heatmap(cm_120, annot=True, cmap='Blues');\n",
    "ax.set_xlabel('True Label')\n",
    "ax.set_ylabel('Predicted Label')\n",
    "ax.xaxis.set_label_position('top')"
   ]
  },
  {
   "cell_type": "code",
   "execution_count": 57,
   "metadata": {
    "collapsed": true
   },
   "outputs": [],
   "source": [
    "sm = SMOTE(random_state=12, ratio = 1.0)"
   ]
  },
  {
   "cell_type": "code",
   "execution_count": 58,
   "metadata": {},
   "outputs": [
    {
     "name": "stderr",
     "output_type": "stream",
     "text": [
      "/anaconda/lib/python3.6/site-packages/sklearn/utils/deprecation.py:77: DeprecationWarning: Function _ratio_float is deprecated; Use a float for 'ratio' is deprecated from version 0.2. The support will be removed in 0.4. Use a dict, str, or a callable instead.\n",
      "  warnings.warn(msg, category=DeprecationWarning)\n"
     ]
    },
    {
     "name": "stdout",
     "output_type": "stream",
     "text": [
      "             precision    recall  f1-score   support\n",
      "\n",
      "          0       0.91      0.90      0.90       158\n",
      "          1       0.98      0.98      0.98       678\n",
      "\n",
      "avg / total       0.96      0.96      0.96       836\n",
      "\n"
     ]
    }
   ],
   "source": [
    "y_180 = df_180['tag_in_six_months'].values\n",
    "X_180 = df_180.drop(['tag_in_six_months'], axis=1).values\n",
    "X_train_180, X_test_180, y_train_180, y_test_180 = train_test_split(X_180, y_180, test_size = 0.25, random_state=0)\n",
    "\n",
    "X_resampled_180, y_resampled_180 = sm.fit_sample(X_train_180, y_train_180)\n",
    "\n",
    "model = RandomForestClassifier(n_estimators=200)\n",
    "model_180 = model.fit(X_resampled_180, y_resampled_180)\n",
    "predict_180 = model.predict(X_test_180)\n",
    "print(classification_report(y_test_180, predict_180))"
   ]
  },
  {
   "cell_type": "code",
   "execution_count": 59,
   "metadata": {},
   "outputs": [
    {
     "data": {
      "image/png": "[encoded data removed]",
      "text/plain": [
       "<matplotlib.figure.Figure at 0x1a20cf5048>"
      ]
     },
     "metadata": {},
     "output_type": "display_data"
    }
   ],
   "source": [
    "cm_180 = confusion_matrix(y_test_180, predict_180).T\n",
    "cm_180 = cm_180.astype('float')/cm_180.sum(axis=0)\n",
    "\n",
    "fig, ax = plt.subplots()\n",
    "sns.heatmap(cm_180, annot=True, cmap='Blues');\n",
    "ax.set_xlabel('True Label')\n",
    "ax.set_ylabel('Predicted Label')\n",
    "ax.xaxis.set_label_position('top')"
   ]
  },
  {
   "cell_type": "code",
   "execution_count": 60,
   "metadata": {},
   "outputs": [
    {
     "data": {
      "image/png": "[encoded data removed]",
      "text/plain": [
       "<matplotlib.figure.Figure at 0x1a20bdcb38>"
      ]
     },
     "metadata": {},
     "output_type": "display_data"
    }
   ],
   "source": [
    "fpr_120, tpr_120, thresholds_120 = roc_curve(y_test_120, model_120.predict_proba(X_test_120)[:,1])\n",
    "roc_auc = roc_auc_score(y_test_120, predict_120)\n",
    "\n",
    "plt.plot(fpr_120, tpr_120, lw=1, label='AUC = %0.2f'%(roc_auc))\n",
    "plt.plot([0, 1], [0, 1], '--k', lw=1)\n",
    "plt.xlabel('False Positive Rate')\n",
    "plt.ylabel('True Positive Rate')\n",
    "plt.title('Random Forest ROC')\n",
    "plt.legend(loc=\"lower right\", frameon = True).get_frame().set_edgecolor('black')"
   ]
  },
  {
   "cell_type": "code",
   "execution_count": 61,
   "metadata": {},
   "outputs": [
    {
     "data": {
      "image/png": "[encoded data removed]",
      "text/plain": [
       "<matplotlib.figure.Figure at 0x1a2174ef60>"
      ]
     },
     "metadata": {},
     "output_type": "display_data"
    }
   ],
   "source": [
    "fpr_180, tpr_180, thresholds_180 = roc_curve(y_test_180, model_180.predict_proba(X_test_180)[:,1])\n",
    "roc_auc = roc_auc_score(y_test_180, predict_180)\n",
    "\n",
    "plt.plot(fpr_180, tpr_180, lw=1, label='AUC = %0.2f'%(roc_auc))\n",
    "plt.plot([0, 1], [0, 1], '--k', lw=1)\n",
    "plt.xlabel('False Positive Rate')\n",
    "plt.ylabel('True Positive Rate')\n",
    "plt.title('Random Forest ROC')\n",
    "plt.legend(loc=\"lower right\", frameon = True).get_frame().set_edgecolor('black')"
   ]
  },
  {
   "cell_type": "code",
   "execution_count": 62,
   "metadata": {},
   "outputs": [
    {
     "data": {
      "text/plain": [
       "(array([0, 1, 2, 3, 4, 5, 6, 7, 8]), <a list of 9 Text xticklabel objects>)"
      ]
     },
     "execution_count": 62,
     "metadata": {},
     "output_type": "execute_result"
    },
    {
     "data": {
      "image/png": "[encoded data removed]",
      "text/plain": [
       "<matplotlib.figure.Figure at 0x1a20a35f98>"
      ]
     },
     "metadata": {},
     "output_type": "display_data"
    }
   ],
   "source": [
    "feat_labels = df_120.drop('tag_in_six_months', axis=1).columns\n",
    "importances = model_120.feature_importances_\n",
    "indices = np.argsort(importances)[::-1]\n",
    "\n",
    "ncomp = 20\n",
    "sns.barplot(x=feat_labels[indices[:ncomp]], y=importances[indices[:ncomp]], color=sns.xkcd_rgb[\"pale red\"])\n",
    "plt.title('Top 10 Feature Importances')\n",
    "plt.ylabel('Relative Feature Importance')\n",
    "plt.xticks(rotation=90)"
   ]
  },
  {
   "cell_type": "code",
   "execution_count": null,
   "metadata": {
    "collapsed": true
   },
   "outputs": [],
   "source": []
  },
  {
   "cell_type": "code",
   "execution_count": null,
   "metadata": {
    "collapsed": true
   },
   "outputs": [],
   "source": []
  },
  {
   "cell_type": "code",
   "execution_count": null,
   "metadata": {
    "collapsed": true
   },
   "outputs": [],
   "source": []
  }
 ],
 "metadata": {
  "kernelspec": {
   "display_name": "Python 3",
   "language": "python",
   "name": "python3"
  },
  "language_info": {
   "codemirror_mode": {
    "name": "ipython",
    "version": 3
   },
   "file_extension": ".py",
   "mimetype": "text/x-python",
   "name": "python",
   "nbconvert_exporter": "python",
   "pygments_lexer": "ipython3",
   "version": "3.6.1"
  }
 },
 "nbformat": 4,
 "nbformat_minor": 2
}
